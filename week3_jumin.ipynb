{
  "nbformat": 4,
  "nbformat_minor": 0,
  "metadata": {
    "colab": {
      "name": "week3_jumin",
      "provenance": [],
      "collapsed_sections": [],
      "authorship_tag": "ABX9TyN9YaDJrE30iYud7PMOijAl",
      "include_colab_link": true
    },
    "kernelspec": {
      "name": "python3",
      "display_name": "Python 3"
    },
    "language_info": {
      "name": "python"
    }
  },
  "cells": [
    {
      "cell_type": "markdown",
      "metadata": {
        "id": "view-in-github",
        "colab_type": "text"
      },
      "source": [
        "<a href=\"https://colab.research.google.com/github/swimming123/naver_boostcourse_2207/blob/week3/week3_jumin.ipynb\" target=\"_parent\"><img src=\"https://colab.research.google.com/assets/colab-badge.svg\" alt=\"Open In Colab\"/></a>"
      ]
    },
    {
      "cell_type": "code",
      "source": [
        "#오입력 후 재입력 없음\n",
        "\n",
        "def check_id() :\n",
        "  reps = int(input(\"입력하실 사람 수를 입력해 주세요 : \"))\n",
        "\n",
        "  for i in range(0, reps) :\n",
        "    num = input('주민등록번호 -를 포함하여 입력해주세요 : ')\n",
        "    while True : \n",
        "      b = num\n",
        "      yy = b[:2]\n",
        "      mm = b[2:4]\n",
        "      \n",
        "      if int(b[:2]) <= 21 : \n",
        "       #print('21세기 출생자')\n",
        "       if int(b[7]) == 3:\n",
        "         print('{}년 {}월 남자'.format(yy, mm))\n",
        "         break\n",
        "       elif int(b[7]) == 4:\n",
        "         print('{}년 {}월 여자'.format(yy, mm))\n",
        "         break\n",
        "       else : \n",
        "         print('잘못입력하셨습니다. 다시 입력해 주세요')\n",
        "         break\n",
        "      \n",
        "      else : \n",
        "        #print('20세기 출생자')\n",
        "        if int(b[7]) == 1:\n",
        "          print('{}년 {}월 남자'.format(yy, mm))\n",
        "          break\n",
        "        elif int(b[7]) == 2:\n",
        "          print('{}년 {}월 여자'.format(yy, mm))\n",
        "          break\n",
        "        else : \n",
        "          print('잘못입력하셨습니다. 다시 입력해 주세요')\n",
        "          continue\n",
        "\n",
        "check_id()\n"
      ],
      "metadata": {
        "colab": {
          "base_uri": "https://localhost:8080/"
        },
        "id": "ONgdNgPz7gK2",
        "outputId": "893edc4d-9896-451b-e6a0-0c14495e6a81"
      },
      "execution_count": null,
      "outputs": [
        {
          "output_type": "stream",
          "name": "stdout",
          "text": [
            "입력하실 사람 수를 입력해 주세요 : 3\n",
            "주민등록번호 -를 포함하여 입력해주세요 : 900102-1002233\n",
            "90년 01월 남자\n",
            "주민등록번호 -를 포함하여 입력해주세요 : 030201-4220011\n",
            "03년 02월 여자\n",
            "주민등록번호 -를 포함하여 입력해주세요 : 130102-2001144\n",
            "잘못입력하셨습니다. 다시 입력해 주세요\n"
          ]
        }
      ]
    },
    {
      "cell_type": "code",
      "source": [
        "# 오입력 후 재입력 있으나 틀렸을 때 재귀함수 호출로 print문이 여러번씩 출력됨\n",
        "\n",
        "def check_id(num) :\n",
        "  # 주민번호가 -로 구분되고 길이가 14자리이면 실행\n",
        "  while True : \n",
        "    #00년생 이전/이후 확인\n",
        "    if int(num[:2]) <= 21 and (int(num[7]) == 3 or int(num[7]) == 4) : \n",
        "      return printing(num)\n",
        "    elif int(num[:2]) > 21 and (int(num[7]) == 1 or int(num[7]) == 2) :\n",
        "      return printing(num)\n",
        "    else : \n",
        "      print('check id 잘못입력하셨습니다.')\n",
        "      num = input('주민등록번호 - 를 포함하여 다시입력해주세요 : ')\n",
        "      check_id(num)\n",
        "\n",
        "def printing(num) : \n",
        "  yy = num[:2]\n",
        "  mm = num[2:4]\n",
        "\n",
        "  if int(num[7]) == 1 or int(num[7]) == 3 : \n",
        "    print ('{}년 {}월 남자'.format(yy, mm))\n",
        "  elif int(num[7]) == 2 or int(num[7]) == 4 :  \n",
        "    print ('{}년 {}월 여자'.format(yy, mm))\n",
        "  else : \n",
        "    print ('ERROR : 출력되지 않음')\n",
        "\n",
        "reps = int(input(\"입력하실 사람 수를 입력해 주세요 : \"))\n",
        "for i in range(0, reps) :\n",
        "    num = input('주민등록번호 -를 포함하여 입력해주세요 : ')\n",
        "    if num[6] == '-' and len(num)==14 : \n",
        "      check_id(num)\n",
        "    else : \n",
        "      print(\"잘못입력하셨습니다.\")\n"
      ],
      "metadata": {
        "colab": {
          "base_uri": "https://localhost:8080/"
        },
        "id": "klFZmmpiuI7Y",
        "outputId": "7646998a-661e-4a9b-c1fd-a6c6451f1f61"
      },
      "execution_count": null,
      "outputs": [
        {
          "output_type": "stream",
          "name": "stdout",
          "text": [
            "입력하실 사람 수를 입력해 주세요 : 2\n",
            "주민등록번호 -를 포함하여 입력해주세요 : 110101-1001100\n",
            "check id 잘못입력하셨습니다.\n",
            "주민등록번호 - 를 포함하여 다시입력해주세요 : 120101-2001144\n",
            "check id 잘못입력하셨습니다.\n",
            "주민등록번호 - 를 포함하여 다시입력해주세요 : 120102-3112233\n",
            "12년 01월 남자\n",
            "12년 01월 남자\n",
            "check id 잘못입력하셨습니다.\n",
            "주민등록번호 - 를 포함하여 다시입력해주세요 : 123456789+-\n",
            "check id 잘못입력하셨습니다.\n",
            "주민등록번호 - 를 포함하여 다시입력해주세요 : 110101-3001144\n",
            "11년 01월 남자\n",
            "11년 01월 남자\n",
            "check id 잘못입력하셨습니다.\n",
            "주민등록번호 - 를 포함하여 다시입력해주세요 : 987456-2114455\n",
            "98년 74월 여자\n",
            "98년 74월 여자\n",
            "주민등록번호 -를 포함하여 입력해주세요 : 880102-1002255\n",
            "88년 01월 남자\n"
          ]
        }
      ]
    },
    {
      "cell_type": "code",
      "source": [
        "# 윤수영\n",
        "\n",
        "\n",
        "def check_id(num) :\n",
        "  # 주민번호가 -로 구분되고 길이가 14자리이면 실행\n",
        "  while True : \n",
        "    #00년생 이전/이후 확인\n",
        "    if int(num[:2]) <= 21 and (int(num[7]) == 3 or int(num[7]) == 4) : \n",
        "      return printing(num)\n",
        "    elif int(num[:2]) > 21 and (int(num[7]) == 1 or int(num[7]) == 2) :\n",
        "      return printing(num)\n",
        "    else : \n",
        "      print('check id 잘못입력하셨습니다.')\n",
        "      num = input('주민등록번호 - 를 포함하여 다시입력해주세요 : ')\n",
        "      check_id(num)\n",
        "\n",
        "\n",
        "def printing(num) : \n",
        "  yy = num[:2]\n",
        "  mm = num[2:4]\n",
        "\n",
        "  if int(num[7]) == 1 or int(num[7]) == 3 : \n",
        "    print ('{}년 {}월 남자'.format(yy, mm))\n",
        "  elif int(num[7]) == 2 or int(num[7]) == 4 :  \n",
        "    print ('{}년 {}월 여자'.format(yy, mm))\n",
        "  else : \n",
        "    print ('ERROR : 출력되지 않음')\n",
        "\n",
        "\n",
        "reps = int(input(\"입력하실 사람 수를 입력해 주세요 : \"))\n",
        "for i in range(0, reps) :\n",
        "    num = input('주민등록번호 -를 포함하여 입력해주세요 : ')\n",
        "    if num[6] == '-' and len(num)==14 : \n",
        "      check_id(num)\n",
        "    else : \n",
        "      print(\"잘못입력하셨습니다.\")\n"
      ],
      "metadata": {
        "id": "KsLAPq2-5xzX"
      },
      "execution_count": null,
      "outputs": []
    },
    {
      "cell_type": "code",
      "execution_count": null,
      "metadata": {
        "id": "VovKJJf8h3EW"
      },
      "outputs": [],
      "source": [
        "#오류남\n",
        "def check_id() : \n",
        "  while True : \n",
        "    a = input(\"주민등록 번호 - 포함하여 입력 : \")\n",
        "    if len(a) != 14: #14자리가 아닌 경우 continue\n",
        "      print('잘못된 주민등록번호입니다. 다시 입력해주세요')\n",
        "      continue\n",
        "    a_list = a.split(\"-\") #a_list에 - 문자 찾기\n",
        "\n",
        "    a_1 = str(a_list[0]) #주민번호 앞 6자리\n",
        "    a_2 = str(a_list[1]) #주민번호 뒤 7자리\n",
        "\n",
        "    if int(a_1[:2]) <= 21 : # 00 ~ 21 사이 출생자\n",
        "        ask = input('00년생 이후 출생자 입니까? 맞으면 O 틀리면 x : ')\n",
        "        if ask == 'o': #3\n",
        "          if a_2[0] == 3 : #4\n",
        "            print('{}년 {}월 남자'.format(a_1[0:2], a_2[2:4]))\n",
        "          elif a_2[0] == 4 : \n",
        "            print('{}년 {}월 여자'.format(a_1[0:2], a_2[2:4]))\n",
        "          else : \n",
        "            print(\"잘못 입력하셨습니다.\") #4\n",
        "        elif ask =='x' : #3\n",
        "          if a_2[0] == 1 : \n",
        "            print('{}년 {}월 남자'.format(a_1[0:2], a_2[2:4]))\n",
        "          else : \n",
        "            print('{}년 {}월 여자'.format(a_1[0:2], a_2[2:4]))\n",
        "        else : \n",
        "          print(\"잘못 입력하셨습니다.\") #3\n",
        "\n",
        "        \n",
        "\n",
        "\n",
        "check_id()\n"
      ]
    },
    {
      "cell_type": "code",
      "source": [
        "#오류남\n",
        "def check_id() : \n",
        "  while True : \n",
        "    a = input(\"주민등록 번호 - 포함하여 입력 : \")\n",
        "    if len(a) != 14: #14자리가 아닌 경우 continue\n",
        "      print('잘못된 주민등록번호입니다. 다시 입력해주세요')\n",
        "      continue\n",
        "    a_list = a.split(\"-\") #a_list에 - 문자 찾기\n",
        "\n",
        "    a_1 = str(a_list[0]) #주민번호 앞 6자리\n",
        "    a_2 = str(a_list[1]) #주민번호 뒤 7자리\n",
        "\n",
        "    print(a_1[:2])\n",
        "    print(type(a_1[:2])) #str\n",
        "\n",
        "check_id()\n",
        "  "
      ],
      "metadata": {
        "id": "D5BUEmjz2FqY"
      },
      "execution_count": null,
      "outputs": []
    },
    {
      "cell_type": "code",
      "source": [
        "\n",
        "#{}년 {}월 남자\n",
        "#오류남\n",
        "def check_age(num) : \n",
        "  b = num\n",
        "  yy = b[:2]\n",
        "  mm = b[2:4]\n",
        "\n",
        "  if int(b[:2]) <= 21 :\n",
        "    print('21세기 출생자')\n",
        "    if b[8] == 3 : \n",
        "      gender = '남자'\n",
        "      return yy, mm, gender\n",
        "    elif b[8] == 4 : \n",
        "      gender = '여자'\n",
        "      return yy, mm, gender\n",
        "    else : \n",
        "      print('잘못 입력하셨습니다.')\n",
        "\n",
        "  else : \n",
        "    print('20세기 사람')\n",
        "    birth = b[:6]\n",
        "    gender = b[8]\n",
        "    return birth, gender\n",
        "\n",
        "def id_print(yy, mm, gender) :\n",
        "  print('{}년 {}월 {}'.format(yy, mm, gender))\n",
        "\n",
        "\n",
        "num = input('주민번호 입력')\n",
        "check_age(num)"
      ],
      "metadata": {
        "colab": {
          "base_uri": "https://localhost:8080/"
        },
        "id": "2L5zdeUb5N8Q",
        "outputId": "a5f378c9-0347-402f-c9dd-440fd359f987"
      },
      "execution_count": null,
      "outputs": [
        {
          "output_type": "stream",
          "name": "stdout",
          "text": [
            "주민번호 입력970307-2001144\n",
            "20세기 사람\n"
          ]
        }
      ]
    },
    {
      "cell_type": "code",
      "source": [
        "def check_id() :\n",
        "    reps = int(input(\"입력하실 사람 수를 입력해 주세요 : \"))\n",
        "\n",
        "    for i in range(0, reps) :\n",
        "        num = input('주민등록번호 -를 포함하여 입력해주세요 : ')\n",
        "        while True : \n",
        "            b = num\n",
        "            yy = b[:2]\n",
        "            mm = b[2:4]\n",
        "\n",
        "            if int(b[:2]) <= 21 : \n",
        "                #print('21세기 출생자')\n",
        "                if int(b[7]) == 3:\n",
        "                    print('{}년 {}월 남자'.format(yy, mm))\n",
        "                    break\n",
        "                elif int(b[7]) == 4:\n",
        "                    print('{}년 {}월 여자'.format(yy, mm))\n",
        "                    break\n",
        "                else : \n",
        "                    print('잘못입력하셨습니다. 다시 입력해 주세요')\n",
        "                    break\n",
        "      \n",
        "            else : \n",
        "                #print('20세기 출생자')\n",
        "                if int(b[7]) == 1:\n",
        "                    print('{}년 {}월 남자'.format(yy, mm))\n",
        "                    break\n",
        "                elif int(b[7]) == 2:\n",
        "                    print('{}년 {}월 여자'.format(yy, mm))\n",
        "                    break\n",
        "                else : \n",
        "                    print('잘못입력하셨습니다. 다시 입력해 주세요')\n",
        "                    continue\n",
        "\n",
        "check_id()"
      ],
      "metadata": {
        "id": "yBzW41WwB3a6",
        "colab": {
          "base_uri": "https://localhost:8080/"
        },
        "outputId": "4728d807-0f20-49e3-ddba-308a56f839cc"
      },
      "execution_count": null,
      "outputs": [
        {
          "output_type": "stream",
          "name": "stdout",
          "text": [
            "입력하실 사람 수를 입력해 주세요 : 1\n",
            "주민등록번호 -를 포함하여 입력해주세요 : 970204-2001144\n",
            "97년 02월 여자\n"
          ]
        }
      ]
    }
  ]
}