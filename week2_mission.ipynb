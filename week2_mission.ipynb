{
  "nbformat": 4,
  "nbformat_minor": 0,
  "metadata": {
    "colab": {
      "name": "week2_mission",
      "provenance": [],
      "authorship_tag": "ABX9TyMxq3f8+ubc94TD6sc6ksbE",
      "include_colab_link": true
    },
    "kernelspec": {
      "name": "python3",
      "display_name": "Python 3"
    },
    "language_info": {
      "name": "python"
    }
  },
  "cells": [
    {
      "cell_type": "markdown",
      "metadata": {
        "id": "view-in-github",
        "colab_type": "text"
      },
      "source": [
        "<a href=\"https://colab.research.google.com/github/swimming123/naver_boostcourse_2207/blob/week2/week2_mission.ipynb\" target=\"_parent\"><img src=\"https://colab.research.google.com/assets/colab-badge.svg\" alt=\"Open In Colab\"/></a>"
      ]
    },
    {
      "cell_type": "code",
      "execution_count": null,
      "metadata": {
        "id": "DfPCkQEdalQ2"
      },
      "outputs": [],
      "source": [
        "#1 가위바위보\n",
        "import random\n",
        "#0 ~ 2 숫자를 랜덤으로 뽑아내는 코드\n",
        "computer = random.randint(0, 2)\n",
        "\n",
        "#rsp == rock scissors paper\n",
        "my = input (\"가위바위보\")\n",
        "rcp(my)\n",
        "\n",
        "#출력\n",
        "#나: 가위\n",
        "#컴퓨터 : 바위\n",
        "#컴퓨터 승리!"
      ]
    },
    {
      "cell_type": "code",
      "source": [
        "import random\n",
        "my = input(\"가위, 바위, 보 중 하나를 고르세요. \")\n",
        "\n",
        "com = random.randrange(1, 3) # 1 가위, 2 바위, 3 보\n",
        "com_dict = {1:\"가위\", 2:\"바위\", 3:\"보\"} # 난수 1 ~ 3을 문자로 변환하는 딕셔너리\n",
        "\n",
        "print('나 : {}'.format(my))  # 사용자가 선택한 가위바위보 출력\n",
        "print('컴퓨터 :{}'.format(com_dict[com])) # 컴퓨터가 선택한 가위바위보 출력, com에서 선택한 숫자를 key로 사용\n",
        "\n",
        "#사용자가 이기는 경우, 비길 경우, 컴퓨터가 이길 경우로 나눔\n",
        "if (my=='가위' and com == 3 ) or (my=='바위' and com ==1) or (my== '보' and com ==2) :\n",
        "    print(\"사용자 승리!\")\n",
        "elif (my=='가위' and com==1) or (my=='바위' and com==2) or (my=='보' and com==3) :\n",
        "    print(\"비겼습니다!\")\n",
        "else :\n",
        "    print(\"컴퓨터 승리!\")"
      ],
      "metadata": {
        "colab": {
          "base_uri": "https://localhost:8080/"
        },
        "id": "wxlfJOElccwx",
        "outputId": "35af17ca-3874-4831-f454-0bbcb953e220"
      },
      "execution_count": null,
      "outputs": [
        {
          "output_type": "stream",
          "name": "stdout",
          "text": [
            "가위, 바위, 보 중 하나를 고르세요. 가위\n",
            "나 : 가위\n",
            "컴퓨터 :바위\n",
            "컴퓨터 승리!\n"
          ]
        }
      ]
    },
    {
      "cell_type": "code",
      "source": [
        "#2 연봉계산기\n",
        "# 1200 이하 6%, 4600 이하 15%, 8800이하 24%, 1억5천 이하 35%, 3억 이하 38%, 5억 이하 40%, 5억 초과 42%\n",
        "#월급입력\n",
        "monthly_payment(monthly_payment)\n",
        "\n",
        "#출력\n",
        "# 세전 연봉 : 3600만원\n",
        "# 세후 연봉 : 3060만원\n"
      ],
      "metadata": {
        "id": "C_b1UYDha77E"
      },
      "execution_count": null,
      "outputs": []
    },
    {
      "cell_type": "code",
      "source": [
        "monthly_payment =int(input(\"월급을 입력해 주세요 ex) 300 : \")) #월급 입력\n",
        "\n",
        "yearly_payment = monthly_payment*12   # 연봉 계산\n",
        "print ('세전 연봉 : %d 만원'%(yearly_payment))\n",
        "\n",
        "#연봉 구간에 따라 세율 계산 (연봉 - (연봉*세금))\n",
        "if yearly_payment <=1200 : \n",
        "  print ('세후 연봉 : {} 만원'.format(yearly_payment-(yearly_payment*0.06)))\n",
        "elif yearly_payment <= 4600 : \n",
        "  print ('세후 연봉 : {} 만원'.format(yearly_payment-(yearly_payment*0.15)))\n",
        "elif yearly_payment <= 8800 : \n",
        "  print ('세후 연봉 : {} 만원'.format(yearly_payment-(yearly_payment*0.24)))\n",
        "elif yearly_payment <= 15000 : \n",
        "  print ('세후 연봉 : {} 만원'.format(yearly_payment-(yearly_payment*0.35)))\n",
        "elif yearly_payment <= 30000 : \n",
        "  print ('세후 연봉 : {} 만원'.format(yearly_payment-(yearly_payment*0.38)))\n",
        "elif yearly_payment <= 50000 : \n",
        "  print ('세후 연봉 : {} 만원'.format(yearly_payment-(yearly_payment*0.40)))\n",
        "else : \n",
        "  print ('세후 연봉 : {} 만원'.format(yearly_payment-(yearly_payment*0.42)))"
      ],
      "metadata": {
        "colab": {
          "base_uri": "https://localhost:8080/"
        },
        "id": "Z9wk4oIOoOqR",
        "outputId": "1882b415-5189-441f-fa96-ca31dd5648de"
      },
      "execution_count": 1,
      "outputs": [
        {
          "output_type": "stream",
          "name": "stdout",
          "text": [
            "월급을 입력해 주세요 ex) 300 : 400\n",
            "세전 연봉 : 4800 만원\n",
            "세후 연봉 : 3648.0 만원\n"
          ]
        }
      ]
    },
    {
      "cell_type": "code",
      "source": [
        "#3 학점 변환기\n",
        "# 95 ~ 100 A+\n",
        "# 90 ~ 94 A\n",
        "# 85 ~ 89 B+\n",
        "# 80 ~ 84 B\n",
        "# 75 ~ 79 C+\n",
        "# 70 ~ 74 C\n",
        "# 65 ~ 69 D+\n",
        "# 60 ~ 64 D\n",
        "# ~ 60 F\n",
        "\n",
        "#이름과 점수 입력\n",
        "grader(\"이호창\", 99)\n",
        "\n",
        "#출력\n",
        "# 학생이름 : 이호창\n",
        "# 점수 : 99점\n",
        "# 학점 : A+"
      ],
      "metadata": {
        "id": "gT6BYIOZbY2J"
      },
      "execution_count": null,
      "outputs": []
    },
    {
      "cell_type": "code",
      "source": [
        "name = input(\"본인 이름을 입력해주세요 : \")\n",
        "score = int(input(\"당신의 점수를 입력해주세요 : \"))\n",
        "\n",
        "print ('학생이름 : ', name)\n",
        "print ('점수 : ', score)\n",
        "\n",
        "#학점 구간에 따라 if, elif, else 문 실행하여 학점 print\n",
        "if score >= 95 : \n",
        "  print('학점 : A+')\n",
        "elif score <95 : \n",
        "  print('학점 : A')\n",
        "elif score <90 : \n",
        "  print('학점 : B+')\n",
        "elif score <85 : \n",
        "  print('학점 : B')\n",
        "elif score <80 : \n",
        "  print('학점 : C+')\n",
        "elif score <75 : \n",
        "  print('학점 : C')\n",
        "elif score <70 : \n",
        "  print('학점 : D+')\n",
        "elif score <65 : \n",
        "  print('학점 : D')\n",
        "else : \n",
        "  print('학점 : F') "
      ],
      "metadata": {
        "colab": {
          "base_uri": "https://localhost:8080/"
        },
        "id": "As4nX50WrYw9",
        "outputId": "92920400-b530-4c64-b78c-2bc992457ca1"
      },
      "execution_count": null,
      "outputs": [
        {
          "output_type": "stream",
          "name": "stdout",
          "text": [
            "본인 이름을 입력해주세요 : 윤수영\n",
            "당신의 점수를 입력해주세요 : 90\n",
            "학생이름 :  윤수영\n",
            "점수 :  90\n",
            "학점 : A\n"
          ]
        }
      ]
    },
    {
      "cell_type": "code",
      "source": [
        "#버스 요금 계산기\n",
        "# ~ 8세 미만 : 무료\n",
        "# 8세 ~ 14세 미만 카드 450 현금 450\n",
        "# 14세 ~ 20세 미만 카드 720 현금 1000원\n",
        "# 20세 이상 카드 1200 현금 1300\n",
        "# 75세 이상 : 무료\n",
        "\n",
        "age = int(input('버스 요금을 내실 분의 나이를 입력해주세요 : '))\n",
        "fare = input (\"지불하실 수단을 입력해주세요. 현금 / 카드 : \")\n",
        "\n",
        "print ('나이 : ', age)\n",
        "print ('지불유형 :', fare)\n",
        "\n",
        "#range 함수로 구간 지정 해보고 싶었으나 실패\n",
        "#baby = range(8)\n",
        "#children = range(8,14)\n",
        "#teens = range(14,20)\n",
        "#adult = range(20,75)\n",
        "\n",
        "\n",
        "# 첫번째 조건은 나이로 설정 한 후 카드/현금 조건에 따라 버스 요금 출력\n",
        "if age <8 :\n",
        "  print(\"버스 요금 : 무료\")\n",
        "elif age >=8 and age<14 : \n",
        "  if fare == \"카드\" : \n",
        "    print(\"버스 요금 : 450원\")\n",
        "  else : \n",
        "    print(\"버스 요금 : 450원\")\n",
        "elif age>=14 and age<20 : \n",
        "  if fare == \"카드\" : \n",
        "    print(\"버스 요금 : 720원\")\n",
        "  else : \n",
        "    print(\"버스 요금 : 1000원\")\n",
        "elif age>=20 and age<75 : \n",
        "  if fare == \"카드\" : \n",
        "    print(\"버스 요금 : 1200원\")\n",
        "  else : \n",
        "    print(\"버스 요금 : 1300원\")\n",
        "else : \n",
        "  print(\"버스 요금 : 무료\")\n",
        "\n",
        "\n"
      ],
      "metadata": {
        "colab": {
          "base_uri": "https://localhost:8080/"
        },
        "id": "LlvpYHQrb_Vc",
        "outputId": "26e2201c-dc48-4443-9c52-6feb9a02201b"
      },
      "execution_count": null,
      "outputs": [
        {
          "output_type": "stream",
          "name": "stdout",
          "text": [
            "버스 요금을 내실 분의 나이를 입력해주세요 : 23\n",
            "지불하실 수단을 입력해주세요. 현금 / 카드 : 현금\n",
            "나이 :  23\n",
            "지불유형 : 현금\n",
            "버스 요금 : 1300원\n"
          ]
        }
      ]
    }
  ]
}