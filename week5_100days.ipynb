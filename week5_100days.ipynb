{
  "nbformat": 4,
  "nbformat_minor": 0,
  "metadata": {
    "colab": {
      "name": "week5_100days.ipynb",
      "provenance": [],
      "collapsed_sections": [],
      "authorship_tag": "ABX9TyO6ADfQjwY/RXrh9V0tnxR7",
      "include_colab_link": true
    },
    "kernelspec": {
      "name": "python3",
      "display_name": "Python 3"
    },
    "language_info": {
      "name": "python"
    }
  },
  "cells": [
    {
      "cell_type": "markdown",
      "metadata": {
        "id": "view-in-github",
        "colab_type": "text"
      },
      "source": [
        "<a href=\"https://colab.research.google.com/github/swimming123/naver_boostcourse_2207/blob/main/week5_100days.ipynb\" target=\"_parent\"><img src=\"https://colab.research.google.com/assets/colab-badge.svg\" alt=\"Open In Colab\"/></a>"
      ]
    },
    {
      "cell_type": "markdown",
      "source": [
        "📌Q4. 오늘 애인이 생겼다고 해봅시다. 100일을 기념하고 싶은데요.\n",
        "\n",
        "날짜를 넣으면 100일 뒤가 몇월 며칠인지 계산해주는 함수를 만들어 보겠습니다.\n",
        "\n",
        "😲조건1 - \"오늘부터 1일\"이기 때문에 날짜를 계산할 때 오늘을 포함합니다\n",
        "\n",
        "😲조건2 - 몇년도인지 구분하지 않고 윤년도 고려하지 않고 2월은 무조건 28일로 합니다.\n",
        "\n",
        "🧐hint\n",
        "\n",
        "# 특정 원소의 위치를 찾는 방법\n",
        "\n",
        "a = [1,2,3,4]\n",
        "\n",
        "a.index(1)\n",
        "\n",
        "0\n",
        "\n",
        "✅출력 예시\n",
        "\n",
        "after_100(6,21,\"월\")\n",
        "\n",
        "6월 21일 월요일부터 100일 뒤는 9월 28일 화요일\n",
        "\n",
        "\n",
        "https://verificationkr.tistory.com/580"
      ],
      "metadata": {
        "id": "y-ZPWa6j8biw"
      }
    },
    {
      "cell_type": "code",
      "execution_count": null,
      "metadata": {
        "colab": {
          "base_uri": "https://localhost:8080/"
        },
        "id": "D1Ow89z08Pc3",
        "outputId": "784f5c05-0b79-4d5e-8aca-b5459a67532b"
      },
      "outputs": [
        {
          "output_type": "stream",
          "name": "stdout",
          "text": [
            "160\n"
          ]
        }
      ],
      "source": [
        "# 날짜 입력받기\n",
        "# 오늘부터 1일\n",
        "# 2월 28일 고정\n",
        "import datetime as datetime\n",
        "\n",
        "today = datetime.date.today()\n",
        "targetday = datetime.date(2022,3,7)\n",
        "values = today - targetday\n",
        "print(values.days)"
      ]
    },
    {
      "cell_type": "code",
      "source": [
        "loveday = []\n",
        "loveday = list(map(int, input('사귄 날짜를 년 월 일 띄어쓰기로 구분하여 입력해주세요~! (1990 01 01) : ').split()))\n",
        "\n",
        "#입력받은 날짜 분해\n",
        "l_year = loveday[0]\n",
        "l_month = loveday[1]\n",
        "l_day = loveday[2]\n",
        "\n",
        "#2월 28일로 고정, 윤년 없음\n",
        "month = [31, 28, 31, 30, 31, 30, 31, 31, 30, 31, 30, 31]\n",
        "#100일\n",
        "dday = 100\n",
        "\n",
        "l_month -= 1 #인덱스 맞추기\n",
        "\n",
        "try : \n",
        "  while dday > 0 and l_month < 12 : \n",
        "    dday -= month[l_month] - l_day\n",
        "    l_month += 1\n",
        "    day = 0\n",
        "\n",
        "  if l_month < 12 : \n",
        "    l_month -= 1\n",
        "    dday += month[l_month]\n",
        "  else : \n",
        "    l_month = 0\n",
        "    l_year += 1 \n",
        "\n",
        "  l_month += 1\n",
        "  print('100일 째 되는 날은 {}년 {}월 {}일 입니다~!'.format(l_year, l_month, dday))\n",
        "\n",
        "\n",
        "except : \n",
        "  print('잘못입력하셨습니다. 다시 시작해주세요')\n",
        "\n",
        "# 3000년 입력해도 계산함\n",
        "# 오입력시 예외처리 없음\n",
        "# 메인 / 함수 구분 필요\n",
        "\n"
      ],
      "metadata": {
        "id": "P4iRM-5Q9KjE"
      },
      "execution_count": null,
      "outputs": []
    },
    {
      "cell_type": "code",
      "source": [
        "def countdays(loveday) : \n",
        "  #2월 28일로 고정, 윤년 없음\n",
        "  month = [31, 28, 31, 30, 31, 30, 31, 31, 30, 31, 30, 31]\n",
        "  #100일\n",
        "  dday = 100\n",
        "\n",
        "  l_year = loveday[0]\n",
        "  l_month = loveday[1]\n",
        "  l_day = loveday[2]\n",
        "\n",
        "  l_month -= 1 #인덱스 맞추기\n",
        "\n",
        "\n",
        "  while dday > 0 and l_month < 12 : \n",
        "    dday -= month[l_month] - l_day\n",
        "    l_month += 1\n",
        "    day = 0\n",
        "\n",
        "  if l_month < 12 : \n",
        "    l_month -= 1\n",
        "    dday += month[l_month]\n",
        "  else : \n",
        "    l_month = 0\n",
        "    l_year += 1 \n",
        "\n",
        "  l_month += 1\n",
        "    \n",
        "  print('100일 째 되는 날은 {}년 {}월 {}일 입니다~!'.format(l_year, l_month, dday))\n",
        "\n",
        "\n",
        "# 오입력시 예외처리 없음\n",
        "\n",
        "\n",
        "#main\n",
        "\n",
        "try : \n",
        "  loveday = []\n",
        "  loveday = list(map(int, input('사귄 날짜를 년 월 일 띄어쓰기로 구분하여 입력해주세요~! (1990 01 01) : ').split()))\n",
        "  countdays(loveday)\n",
        "except : \n",
        "  print('잘못 입력하셨습니다.')\n"
      ],
      "metadata": {
        "colab": {
          "base_uri": "https://localhost:8080/"
        },
        "id": "yag0JATw_I1A",
        "outputId": "2d3b3e64-d926-43be-d956-cbdee897a152"
      },
      "execution_count": null,
      "outputs": [
        {
          "output_type": "stream",
          "name": "stdout",
          "text": [
            "사귄 날짜를 년 월 일 띄어쓰기로 구분하여 입력해주세요~! (1990 01 01) : 2022 03 04\n",
            "100일 째 되는 날은 2022년 6월 24일 입니다~!\n"
          ]
        }
      ]
    }
  ]
}