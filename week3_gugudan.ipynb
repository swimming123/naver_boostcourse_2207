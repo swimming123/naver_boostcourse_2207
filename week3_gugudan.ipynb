{
  "nbformat": 4,
  "nbformat_minor": 0,
  "metadata": {
    "colab": {
      "name": "week3_gugudan",
      "provenance": [],
      "collapsed_sections": [],
      "authorship_tag": "ABX9TyMKJawvavy0nWMznt28IHRg",
      "include_colab_link": true
    },
    "kernelspec": {
      "name": "python3",
      "display_name": "Python 3"
    },
    "language_info": {
      "name": "python"
    }
  },
  "cells": [
    {
      "cell_type": "markdown",
      "metadata": {
        "id": "view-in-github",
        "colab_type": "text"
      },
      "source": [
        "<a href=\"https://colab.research.google.com/github/swimming123/naver_boostcourse_2207/blob/week3/week3_gugudan.ipynb\" target=\"_parent\"><img src=\"https://colab.research.google.com/assets/colab-badge.svg\" alt=\"Open In Colab\"/></a>"
      ]
    },
    {
      "cell_type": "code",
      "execution_count": null,
      "metadata": {
        "id": "PRebep1mqq8w"
      },
      "outputs": [],
      "source": [
        "#구구단 만들기\n",
        "#홀수번째만 출력\n",
        "#50이하만 출력"
      ]
    },
    {
      "cell_type": "code",
      "source": [
        "#구구단\n",
        "\n",
        "for i in range(2,50) : \n",
        "  for j in range(1,50) : \n",
        "    if j%2==0 : \n",
        "      continue\n",
        "    value = i * j  \n",
        "    print(value)\n"
      ],
      "metadata": {
        "id": "B5vmXNxkqxIm"
      },
      "execution_count": null,
      "outputs": []
    },
    {
      "cell_type": "code",
      "source": [
        "a = [1,2,3,4]\n",
        "result = [num * 3 for num in a if num % 2 == 0]\n",
        "print(result)\n"
      ],
      "metadata": {
        "colab": {
          "base_uri": "https://localhost:8080/"
        },
        "id": "_L9vqNJ8F5nq",
        "outputId": "0666bd13-1036-44ce-85c4-058979d81ac1"
      },
      "execution_count": null,
      "outputs": [
        {
          "output_type": "stream",
          "name": "stdout",
          "text": [
            "[6, 12]\n"
          ]
        }
      ]
    },
    {
      "cell_type": "code",
      "source": [
        "for i in range(2,10):  \n",
        "  print('---{}단---'.format(i))      # 1번 for문\n",
        "  for j in range(1, 10):     # 2번 for문 \n",
        "    if j%2==0:               # 짝수번째 continue로 출력 제외\n",
        "      continue\n",
        "    if i*j>50 :              # 50이상 인 값 출력 제외\n",
        "      continue\n",
        "    print('{} X {} = {} '.format(i, j, i*j)) "
      ],
      "metadata": {
        "colab": {
          "base_uri": "https://localhost:8080/"
        },
        "id": "U7c8SSEDGkpC",
        "outputId": "b2ca32c0-abf4-462f-9a16-77c836f42a2e"
      },
      "execution_count": 6,
      "outputs": [
        {
          "output_type": "stream",
          "name": "stdout",
          "text": [
            "---2단---\n",
            "2 X 1 = 2 \n",
            "2 X 3 = 6 \n",
            "2 X 5 = 10 \n",
            "2 X 7 = 14 \n",
            "2 X 9 = 18 \n",
            "---3단---\n",
            "3 X 1 = 3 \n",
            "3 X 3 = 9 \n",
            "3 X 5 = 15 \n",
            "3 X 7 = 21 \n",
            "3 X 9 = 27 \n",
            "---4단---\n",
            "4 X 1 = 4 \n",
            "4 X 3 = 12 \n",
            "4 X 5 = 20 \n",
            "4 X 7 = 28 \n",
            "4 X 9 = 36 \n",
            "---5단---\n",
            "5 X 1 = 5 \n",
            "5 X 3 = 15 \n",
            "5 X 5 = 25 \n",
            "5 X 7 = 35 \n",
            "5 X 9 = 45 \n",
            "---6단---\n",
            "6 X 1 = 6 \n",
            "6 X 3 = 18 \n",
            "6 X 5 = 30 \n",
            "6 X 7 = 42 \n",
            "---7단---\n",
            "7 X 1 = 7 \n",
            "7 X 3 = 21 \n",
            "7 X 5 = 35 \n",
            "7 X 7 = 49 \n",
            "---8단---\n",
            "8 X 1 = 8 \n",
            "8 X 3 = 24 \n",
            "8 X 5 = 40 \n",
            "---9단---\n",
            "9 X 1 = 9 \n",
            "9 X 3 = 27 \n",
            "9 X 5 = 45 \n"
          ]
        }
      ]
    },
    {
      "cell_type": "code",
      "source": [
        ""
      ],
      "metadata": {
        "id": "rEEiT0q1HBpj"
      },
      "execution_count": null,
      "outputs": []
    }
  ]
}