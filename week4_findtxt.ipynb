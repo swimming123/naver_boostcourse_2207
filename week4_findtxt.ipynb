{
  "nbformat": 4,
  "nbformat_minor": 0,
  "metadata": {
    "colab": {
      "name": "week4_findtxt.ipynb",
      "provenance": [],
      "authorship_tag": "ABX9TyMnl6fYDufZ7uEi3DgdICTH",
      "include_colab_link": true
    },
    "kernelspec": {
      "name": "python3",
      "display_name": "Python 3"
    },
    "language_info": {
      "name": "python"
    }
  },
  "cells": [
    {
      "cell_type": "markdown",
      "metadata": {
        "id": "view-in-github",
        "colab_type": "text"
      },
      "source": [
        "<a href=\"https://colab.research.google.com/github/swimming123/naver_boostcourse_2207/blob/week4/week4_findtxt.ipynb\" target=\"_parent\"><img src=\"https://colab.research.google.com/assets/colab-badge.svg\" alt=\"Open In Colab\"/></a>"
      ]
    },
    {
      "cell_type": "code",
      "source": [
        "#sample = '''마틸드는 매우 사치스럽고 허영심이 많은 여자이다. 그녀는 사랑받고 싶었고 누구에게나 매혹적으로 보이고 싶었으며 남들에게 인기를 얻기를 원했다. 마틸드는 언제나 항상 상류층의 삶을 동경했고, 그들처럼 폼나게 살아보고 싶었으나 그럴 수 없는 현실에 불만족을 느꼈다. \n",
        "#그녀의 남편은 하급 공무원이었으므로 그녀의 욕망을 채워줄 수는 없었고 그러던 어느날 마틸드의 남편 루아젤은 기뻐할 아내를 생각하며 파티 초대장을 들고 나타난다. \n",
        "#그러나 마틸드는 파티에 입고 갈 옷이 없다며 울음을 터뜨리고 루아젤은 400프랑 정도 되는 옷을 사주었으나 마틸드는 이번에도 옷에 어울리는 보석이 없다며 짜증을 낸다. 결국 그들은 포래스터 부인에게 다이아몬드 목걸이를 빌려 파티에 가서 행복한 시간을 보낸다. \n",
        "#그러나 집으로 돌아왔을 때 목걸이가 사라진 것을 알고 놀란 그녀와 그녀의 남편은 목걸이를 찾기 위해 애를 썼지만 찾지 못했다. 결국 빚을 져 가장 비슷한 목걸이를 3만6천 프랑을 주고 산 뒤 포래스터 부인에게 돌려주었다. \n",
        "#그녀는 빚을 갚기 위해서 닥치는 대로 거친 일을 하고 결국 10년 뒤에서야 모두 빚을 갚은 뒤 친구인 포래스터 부인을 우연히 마주쳤다. 그 동안 있었던 일을 이야기했는데, 포래스터 부인은 그 다이아몬드 목걸이는 가짜였고 겨우 500프랑밖에 하지 않는다는 진실을 알려준다.'''\n",
        "\n",
        "sample = input('어떤 글을 입력해 주세요 : ')\n",
        "word = input('검색할 글자를 입력하세요: ')\n",
        "\n",
        "def count_word(sample, word):\n",
        "    ssmp = sample.split()\n",
        "    lsmp = [i for i in ssmp]\n",
        "    count = 0\n",
        "    for x in lsmp:\n",
        "        if word in x:\n",
        "            count += 1\n",
        "    with open('save.txt', 'w') as f:\n",
        "        f.write(sample)\n",
        "    return f'{word}의 갯수는 {count}개입니다.'\n",
        "\n",
        "print(count_word(sample, word))"
      ],
      "metadata": {
        "colab": {
          "base_uri": "https://localhost:8080/"
        },
        "id": "6vInoMBi4Kfk",
        "outputId": "5192e4f9-2598-43eb-f03c-7ab3161ce8e8"
      },
      "execution_count": null,
      "outputs": [
        {
          "output_type": "stream",
          "name": "stdout",
          "text": [
            "어떤 글을 입력해 주세요 : 마틸드는 매우 사치스럽고 허영심이 많은 여자이다. 그녀는 사랑받고 싶었고 누구에게나 매혹적으로 보이고 싶었으며 남들에게 인기를 얻기를 원했다. 마틸드는 언제나 항상 상류층의 삶을 동경했고, 그들처럼 폼나게 살아보고 싶었으나 그럴 수 없는 현실에 불만족을 느꼈다.  그녀의 남편은 하급 공무원이었으므로 그녀의 욕망을 채워줄 수는 없었고 그러던 어느날 마틸드의 남편 루아젤은 기뻐할 아내를 생각하며 파티 초대장을 들고 나타난다.  그러나 마틸드는 파티에 입고 갈 옷이 없다며 울음을 터뜨리고 루아젤은 400프랑 정도 되는 옷을 사주었으나 마틸드는 이번에도 옷에 어울리는 보석이 없다며 짜증을 낸다. 결국 그들은 포래스터 부인에게 다이아몬드 목걸이를 빌려 파티에 가서 행복한 시간을 보낸다.  그러나 집으로 돌아왔을 때 목걸이가 사라진 것을 알고 놀란 그녀와 그녀의 남편은 목걸이를 찾기 위해 애를 썼지만 찾지 못했다. 결국 빚을 져 가장 비슷한 목걸이를 3만6천 프랑을 주고 산 뒤 포래스터 부인에게 돌려주었다.  그녀는 빚을 갚기 위해서 닥치는 대로 거친 일을 하고 결국 10년 뒤에서야 모두 빚을 갚은 뒤 친구인 포래스터 부인을 우연히 마주쳤다. 그 동안 있었던 일을 이야기했는데, 포래스터 부인은 그 다이아몬드 목걸이는 가짜였고 겨우 500프랑밖에 하지 않는다는 진실을 알려준다.\n",
            "검색할 글자를 입력하세요: 마틸드\n",
            "마틸드의 갯수는 5개입니다.\n"
          ]
        }
      ]
    },
    {
      "cell_type": "code",
      "source": [
        "# 윤수영\n",
        "txt = input('어떤 글을 입력해 주세요 : ')\n",
        "word = input('검색할 글자를 입력하세요 : ')\n",
        "\n",
        "def count_word(txt, word):\n",
        "    paragraph = txt.split() #공뱁/탭/엔터 처리\n",
        "    count = 0\n",
        "    for i in paragraph : \n",
        "        if word in i:# word 개수 세기\n",
        "            count += 1\n",
        "    with open('save.txt', 'w') as f: #쓰기모드로 파일 open\n",
        "        f.write(txt)\n",
        "    return f'{word}의 갯수는 {count}개입니다.'\n",
        "\n",
        "print(count_word(txt, word))"
      ],
      "metadata": {
        "colab": {
          "base_uri": "https://localhost:8080/"
        },
        "id": "ebB5MFIT4XDs",
        "outputId": "dbbc2ea8-fc8b-4f30-b342-9b23fe225d88"
      },
      "execution_count": null,
      "outputs": [
        {
          "output_type": "stream",
          "name": "stdout",
          "text": [
            "어떤 글을 입력해 주세요 : 마틸드는 매우 사치스럽고 허영심이 많은 여자이다. 그녀는 사랑받고 싶었고 누구에게나 매혹적으로 보이고 싶었으며 남들에게 인기를 얻기를 원했다. 마틸드는 언제나 항상 상류층의 삶을 동경했고, 그들처럼 폼나게 살아보고 싶었으나 그럴 수 없는 현실에 불만족을 느꼈다.  그녀의 남편은 하급 공무원이었으므로 그녀의 욕망을 채워줄 수는 없었고 그러던 어느날 마틸드의 남편 루아젤은 기뻐할 아내를 생각하며 파티 초대장을 들고 나타난다.  그러나 마틸드는 파티에 입고 갈 옷이 없다며 울음을 터뜨리고 루아젤은 400프랑 정도 되는 옷을 사주었으나 마틸드는 이번에도 옷에 어울리는 보석이 없다며 짜증을 낸다. 결국 그들은 포래스터 부인에게 다이아몬드 목걸이를 빌려 파티에 가서 행복한 시간을 보낸다.  그러나 집으로 돌아왔을 때 목걸이가 사라진 것을 알고 놀란 그녀와 그녀의 남편은 목걸이를 찾기 위해 애를 썼지만 찾지 못했다. 결국 빚을 져 가장 비슷한 목걸이를 3만6천 프랑을 주고 산 뒤 포래스터 부인에게 돌려주었다.  그녀는 빚을 갚기 위해서 닥치는 대로 거친 일을 하고 결국 10년 뒤에서야 모두 빚을 갚은 뒤 친구인 포래스터 부인을 우연히 마주쳤다. 그 동안 있었던 일을 이야기했는데, 포래스터 부인은 그 다이아몬드 목걸이는 가짜였고 겨우 500프랑밖에 하지 않는다는 진실을 알려준다.\n",
            "검색할 글자를 입력하세요 : 마틸드\n",
            "마틸드의 갯수는 5개입니다.\n"
          ]
        }
      ]
    }
  ]
}