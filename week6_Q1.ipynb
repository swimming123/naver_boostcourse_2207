{
  "nbformat": 4,
  "nbformat_minor": 0,
  "metadata": {
    "colab": {
      "name": "week6_Q1",
      "provenance": [],
      "authorship_tag": "ABX9TyPOGfRWStP/fCa9lUIa8Gi9",
      "include_colab_link": true
    },
    "kernelspec": {
      "name": "python3",
      "display_name": "Python 3"
    },
    "language_info": {
      "name": "python"
    }
  },
  "cells": [
    {
      "cell_type": "markdown",
      "metadata": {
        "id": "view-in-github",
        "colab_type": "text"
      },
      "source": [
        "<a href=\"https://colab.research.google.com/github/swimming123/naver_boostcourse_2207/blob/week6/week6_Q1.ipynb\" target=\"_parent\"><img src=\"https://colab.research.google.com/assets/colab-badge.svg\" alt=\"Open In Colab\"/></a>"
      ]
    },
    {
      "cell_type": "code",
      "execution_count": null,
      "metadata": {
        "id": "fxPTpGMmAUQr"
      },
      "outputs": [],
      "source": [
        "📌Q1. 역사 문제를 하나 내보겠습니다. 고려시대와 조선시대 왕 이름 중에서 고려에도 있고 조선에도 있는 이름은 몇개 일까요? 한 번에 딱 안 떠오른다면 왕 이름을 드릴테니 파이썬 함수로 만들어서 출력 해봅시다.\n",
        "\n",
        " \n",
        "\n",
        "😲조건1 - 중복되는 왕 이름 출력\n",
        "😲조건2 - 중복되는 왕 이름의 수 출력\n",
        "# 왕이름\n",
        "korea_king = \"태조,혜종,정종,광종,경종,성종,목종,현종,덕종,정종,문종,순종,선종,헌종,숙종,예종,인종,의종,명종,신종,희종,강종,고종,원조,충렬왕,충선왕,충숙왕,충혜왕,충목왕,충정왕,공민왕,우왕,창왕,공양왕\"\n",
        "chosun_king = \"태조,정종,태종,세종,문종,단종,세조,예종,성종,연산군,중종,인종,명종,선조,광해군,인조,효종,현종,숙종,경종,영조,정조,순조,헌종,철종,고종,순종\"\n",
        "✅출력 예시\n",
        "king(korea_king, chosun_king)"
      ]
    },
    {
      "cell_type": "code",
      "source": [
        "def king (korea_king, chosun_king) : \n",
        "    # str로 되어있는 왕 이름을 리스트로 바꾸기. ,를 기준으로 함\n",
        "    korea_list = korea_king.split(',')\n",
        "    chosun_list = chosun_king.split(',')\n",
        "\n",
        "    # 조선과 고려에 모두 있는 왕 이름을 저장할 리스트\n",
        "    kor_and_cho = []\n",
        "\n",
        "    # 고려왕 리스트 0번부터 조선 왕 리스트와 비교. 같으면 kor_and_cho 리스트에 저장\n",
        "    for i in range(len(korea_list)) : \n",
        "        for j in range(len(chosun_list)) : \n",
        "            if korea_list[i] == chosun_list[j] : \n",
        "                kor_and_cho.append(korea_list[i])\n",
        "            else : \n",
        "                continue\n",
        "    # 왕 이름 프린트\n",
        "    for k in range(len(kor_and_cho)) : \n",
        "        print('조선과 고려에 모두 있는 왕 이름 : ', kor_and_cho[k])\n",
        "    print('조선과 고려에 모두 있는 왕 이름은 총 {}개 입니다'.format(len(kor_and_cho)-1)) #0부터 시작\n",
        "\n",
        "korea_king = \"태조,혜종,정종,광종,경종,성종,목종,현종,덕종,정종,문종,순종,선종,헌종,숙종,예종,인종,의종,명종,신종,희종,강종,고종,원조,충렬왕,충선왕,충숙왕,충혜왕,충목왕,충정왕,공민왕,우왕,창왕,공양왕\"\n",
        "chosun_king = \"태조,정종,태종,세종,문종,단종,세조,예종,성종,연산군,중종,인종,명종,선조,광해군,인조,효종,현종,숙종,경종,영조,정조,순조,헌종,철종,고종,순종\"\n",
        "king(korea_king, chosun_king)"
      ],
      "metadata": {
        "colab": {
          "base_uri": "https://localhost:8080/"
        },
        "id": "HwjG5EqbAbnV",
        "outputId": "9d27327f-eec1-4ae2-ce59-b147984ec971"
      },
      "execution_count": 3,
      "outputs": [
        {
          "output_type": "stream",
          "name": "stdout",
          "text": [
            "조선과 고려에 모두 있는 왕 이름 :  태조\n",
            "조선과 고려에 모두 있는 왕 이름 :  정종\n",
            "조선과 고려에 모두 있는 왕 이름 :  경종\n",
            "조선과 고려에 모두 있는 왕 이름 :  성종\n",
            "조선과 고려에 모두 있는 왕 이름 :  현종\n",
            "조선과 고려에 모두 있는 왕 이름 :  정종\n",
            "조선과 고려에 모두 있는 왕 이름 :  문종\n",
            "조선과 고려에 모두 있는 왕 이름 :  순종\n",
            "조선과 고려에 모두 있는 왕 이름 :  헌종\n",
            "조선과 고려에 모두 있는 왕 이름 :  숙종\n",
            "조선과 고려에 모두 있는 왕 이름 :  예종\n",
            "조선과 고려에 모두 있는 왕 이름 :  인종\n",
            "조선과 고려에 모두 있는 왕 이름 :  명종\n",
            "조선과 고려에 모두 있는 왕 이름 :  고종\n",
            "조선과 고려에 모두 있는 왕 이름은 총 13개 입니다\n"
          ]
        }
      ]
    },
    {
      "cell_type": "code",
      "source": [
        "print(type(len(korea_list)))"
      ],
      "metadata": {
        "colab": {
          "base_uri": "https://localhost:8080/"
        },
        "id": "sFAWnixJCZns",
        "outputId": "f8ad5d53-71e0-4cbc-d0c3-7d726107adfc"
      },
      "execution_count": 8,
      "outputs": [
        {
          "output_type": "stream",
          "name": "stdout",
          "text": [
            "<class 'int'>\n"
          ]
        }
      ]
    },
    {
      "cell_type": "code",
      "source": [
        "korea_king = \"태조,혜종,정종,광종,경종,성종,목종,현종,덕종,정종,문종,순종,선종,헌종,숙종,예종,인종,의종,명종,신종,희종,강종,고종,원조,충렬왕,충선왕,충숙왕,충혜왕,충목왕,충정왕,공민왕,우왕,창왕,공양왕\"\n",
        "chosun_king = \"태조,정종,태종,세종,문종,단종,세조,예종,성종,연산군,중종,인종,명종,선조,광해군,인조,효종,현종,숙종,경종,영조,정조,순조,헌종,철종,고종,순종\"\n",
        "\n",
        "korea_list = korea_king.split(',')\n",
        "chosun_list = chosun_king.split(',')\n",
        "\n",
        "print(type(korea_list))\n",
        "print(chosun_list)"
      ],
      "metadata": {
        "colab": {
          "base_uri": "https://localhost:8080/"
        },
        "id": "MLsNuDOkCzr7",
        "outputId": "78dcf367-6b3b-45bf-ab62-42d17f8cd6f2"
      },
      "execution_count": 7,
      "outputs": [
        {
          "output_type": "stream",
          "name": "stdout",
          "text": [
            "<class 'list'>\n",
            "['태조', '정종', '태종', '세종', '문종', '단종', '세조', '예종', '성종', '연산군', '중종', '인종', '명종', '선조', '광해군', '인조', '효종', '현종', '숙종', '경종', '영조', '정조', '순조', '헌종', '철종', '고종', '순종']\n"
          ]
        }
      ]
    },
    {
      "cell_type": "code",
      "source": [
        ""
      ],
      "metadata": {
        "id": "NmYbhpdwND5c"
      },
      "execution_count": null,
      "outputs": []
    }
  ]
}