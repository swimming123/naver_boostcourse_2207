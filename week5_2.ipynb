{
  "nbformat": 4,
  "nbformat_minor": 0,
  "metadata": {
    "colab": {
      "name": "week5_2",
      "provenance": [],
      "collapsed_sections": [],
      "authorship_tag": "ABX9TyPSvr37xIQYny8ZEevoNTPL",
      "include_colab_link": true
    },
    "kernelspec": {
      "name": "python3",
      "display_name": "Python 3"
    },
    "language_info": {
      "name": "python"
    }
  },
  "cells": [
    {
      "cell_type": "markdown",
      "metadata": {
        "id": "view-in-github",
        "colab_type": "text"
      },
      "source": [
        "<a href=\"https://colab.research.google.com/github/swimming123/naver_boostcourse_2207/blob/main/week5_2.ipynb\" target=\"_parent\"><img src=\"https://colab.research.google.com/assets/colab-badge.svg\" alt=\"Open In Colab\"/></a>"
      ]
    },
    {
      "cell_type": "code",
      "execution_count": 1,
      "metadata": {
        "colab": {
          "base_uri": "https://localhost:8080/"
        },
        "id": "FvazK8c_mkzv",
        "outputId": "55d79f46-fcc7-48e0-8df0-7755e42151bc"
      },
      "outputs": [
        {
          "output_type": "stream",
          "name": "stdout",
          "text": [
            "학생 : 정무 점수 : 90점 1등\n",
            "학생 : 김갑 점수 : 80점 2등\n",
            "학생 : 이을 점수 : 70점 3등\n",
            "학생 : 박병 점수 : 50점 4등\n",
            "학생 : 최정 점수 : 40점 5등\n"
          ]
        }
      ],
      "source": [
        "from collections import Counter\n",
        "def grader(student_answer, correct_answer) : \n",
        "\n",
        "  stdnt_name = list(student_answer.keys()) #이름\n",
        "  stdnt_sheet = list(student_answer.values()) #학생 답\n",
        "  stdnt_num = len(stdnt_name) #학생수\n",
        "\n",
        "  #변수 생성\n",
        "  \n",
        "  score = 0 # 점수 계산\n",
        "  grade_list = [] #점수 기록하는 리스트\n",
        "\n",
        "  for i in range(stdnt_num) : #학생수만큼 반복\n",
        "    sheet = list(stdnt_sheet[i]) # sheet 리스트는 i번째 학생의 답안지를 리스트로 부름\n",
        "    grade = list(range(stdnt_num)) # 성적 리스트 크기는 학생수의 크기\n",
        "    \n",
        "    for j in range(len(correct_answer)) :  #문제 10개, 채점을 10번 반복\n",
        "      \n",
        "      if int(sheet[j]) == correct_answer[j] : # 학생 답안지 정답지 비교\n",
        "        score += 10 # 맞으면 점수 + 10점\n",
        "      else :\n",
        "        continue \n",
        "    grade[i] = score\n",
        "    grade_list.append(score)\n",
        "    grade_dic = {stdnt_name[i] : grade[i]}\n",
        "    score = 0\n",
        "    i += 1\n",
        "\n",
        "  # 학생 이름, 성적 리스트를 grade_dic에 합치고 성적순으로 내림차순\n",
        "  grade_dic = { name:value for name, value in zip(stdnt_name, grade_list) } \n",
        "  sorted_dict = dict(sorted(grade_dic.items(), key = lambda item: item[1], reverse = True))\n",
        "\n",
        "  rank = 1\n",
        "  for key, value in sorted_dict.items()  : \n",
        "    print('학생 : {} 점수 : {}점 {}등'.format(key, value, rank))\n",
        "    rank += 1\n",
        "\n",
        "# main\n",
        "student_answer = {\"김갑\":\"3242524215\",\"이을\":\"3242524223\",\"박병\":\"2242554131\",\"최정\":\"4245242315\",\"정무\":\"3242524315\"}\n",
        "correct_answer = [3,2,4,2,5,2,4,3,1,2]\n",
        "grader(student_answer, correct_answer)"
      ]
    },
    {
      "cell_type": "code",
      "source": [
        "\n",
        "\n"
      ],
      "metadata": {
        "id": "9zX6MIp-nBTL"
      },
      "execution_count": null,
      "outputs": []
    }
  ]
}